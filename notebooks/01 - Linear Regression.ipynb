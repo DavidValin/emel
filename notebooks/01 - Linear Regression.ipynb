{
 "cells": [
  {
   "cell_type": "code",
   "execution_count": null,
   "metadata": {
    "scrolled": true
   },
   "outputs": [],
   "source": [
    "Boyle.mk(\"env\")\n",
    "Boyle.activate(\"env\")\n",
    "Boyle.install({:emel, \"~> 0.3.0\"})\n",
    "alias Emel.Ml.LinearRegression, as: LR"
   ]
  },
  {
   "cell_type": "code",
   "execution_count": null,
   "metadata": {
    "scrolled": true
   },
   "outputs": [],
   "source": [
    "line = fn x -> 2 * x - 3 + :rand.uniform() end"
   ]
  },
  {
   "cell_type": "code",
   "execution_count": 3,
   "metadata": {},
   "outputs": [
    {
     "data": {
      "text/plain": [
       "[%{x: 1, y: -0.2656003583441289}, %{x: 2, y: 1.071510544986007}]"
      ]
     },
     "execution_count": 3,
     "metadata": {},
     "output_type": "execute_result"
    }
   ],
   "source": [
    "dataset = Enum.map(1..50, fn x -> %{x: x, y: line.(x)} end)\n",
    "Enum.take(dataset, 2)"
   ]
  },
  {
   "cell_type": "code",
   "execution_count": null,
   "metadata": {
    "scrolled": true
   },
   "outputs": [],
   "source": [
    "{training_set, test_set} = Emel.Help.Model.training_and_test_sets(dataset, 0.6)"
   ]
  },
  {
   "cell_type": "code",
   "execution_count": null,
   "metadata": {
    "scrolled": true
   },
   "outputs": [],
   "source": [
    "independent_variables = [:x]\n",
    "dependent_variable = :y\n",
    "f = LR.predictor(training_set, independent_variables, dependent_variable)"
   ]
  },
  {
   "cell_type": "code",
   "execution_count": 6,
   "metadata": {},
   "outputs": [
    {
     "data": {
      "text/plain": [
       "[21.49764948776884, 1.071510544986007, 5.942360017437941, 15.500252573815425]"
      ]
     },
     "execution_count": 6,
     "metadata": {},
     "output_type": "execute_result"
    }
   ],
   "source": [
    "observations = Enum.map(test_set, fn %{y: y} -> y end)\n",
    "Enum.take(observations, 4)"
   ]
  },
  {
   "cell_type": "code",
   "execution_count": 7,
   "metadata": {},
   "outputs": [
    {
     "data": {
      "text/plain": [
       "[21.45021532092789, 1.4216702010287685, 5.427379225008592, 15.441651784958154]"
      ]
     },
     "execution_count": 7,
     "metadata": {},
     "output_type": "execute_result"
    }
   ],
   "source": [
    "predictions = Enum.map(test_set, fn row -> f.(row) end)\n",
    "Enum.take(predictions, 4)"
   ]
  },
  {
   "cell_type": "code",
   "execution_count": 8,
   "metadata": {},
   "outputs": [
    {
     "data": {
      "text/plain": [
       "0.2592595154342723"
      ]
     },
     "execution_count": 8,
     "metadata": {},
     "output_type": "execute_result"
    }
   ],
   "source": [
    "Emel.Math.Statistics.mean_absolute_error(predictions, observations)"
   ]
  }
 ],
 "metadata": {
  "kernelspec": {
   "display_name": "Elixir",
   "language": "Elixir",
   "name": "ielixir"
  },
  "language_info": {
   "codemirror_mode": "elixir",
   "file_extension": "ex",
   "mimetype": "text/x-elixir",
   "name": "elixir",
   "nbconvert_exporter": "",
   "pygments_lexer": "elixir",
   "version": "1.7.4"
  }
 },
 "nbformat": 4,
 "nbformat_minor": 2
}
