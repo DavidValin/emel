{
 "cells": [
  {
   "cell_type": "code",
   "execution_count": 1,
   "metadata": {
    "collapsed": true
   },
   "outputs": [
    {
     "name": "stdout",
     "output_type": "stream",
     "text": [
      "All dependencies up to date\n",
      "All dependencies up to date\n",
      "Resolving Hex dependencies...\n",
      "Dependency resolution completed:\n",
      "Unchanged:\n",
      "\u001b[32m  csv 2.0.0\u001b[0m\n",
      "\u001b[32m  emel 0.3.0\u001b[0m\n",
      "\u001b[32m  parallel_stream 1.0.6\u001b[0m\n",
      "All dependencies up to date\n",
      "Resolving Hex dependencies...\n",
      "Dependency resolution completed:\n",
      "Unchanged:\n",
      "\u001b[32m  csv 2.0.0\u001b[0m\n",
      "\u001b[32m  emel 0.3.0\u001b[0m\n",
      "\u001b[32m  parallel_stream 1.0.6\u001b[0m\n",
      "All dependencies up to date\n"
     ]
    },
    {
     "name": "stderr",
     "output_type": "stream",
     "text": [
      "\u001b[33mwarning: \u001b[0mfound quoted keyword \"coveralls\" but the quotes are not required. Note that keywords are always atoms, even when quoted, and quotes should only be used to introduce keywords with foreign characters in them\n",
      "  mix.exs:22\n",
      "\n",
      "\u001b[33mwarning: \u001b[0mredefining module IElixir.Mixfile (current version defined in memory)\n",
      "  mix.exs:1\n",
      "\n",
      "\u001b[33mwarning: \u001b[0mfound quoted keyword \"coveralls\" but the quotes are not required. Note that keywords are always atoms, even when quoted, and quotes should only be used to introduce keywords with foreign characters in them\n",
      "  mix.exs:22\n",
      "\n",
      "\u001b[33mwarning: \u001b[0mredefining module IElixir.Mixfile (current version defined in memory)\n",
      "  mix.exs:1\n",
      "\n",
      "\u001b[33mwarning: \u001b[0mfound quoted keyword \"coveralls\" but the quotes are not required. Note that keywords are always atoms, even when quoted, and quotes should only be used to introduce keywords with foreign characters in them\n",
      "  /home/dimos/projects/elixir/IElixir/envs/env/deps/parallel_stream/mix.exs:17\n",
      "\n",
      "\u001b[33mwarning: \u001b[0mfound quoted keyword \"coveralls\" but the quotes are not required. Note that keywords are always atoms, even when quoted, and quotes should only be used to introduce keywords with foreign characters in them\n",
      "  /home/dimos/projects/elixir/IElixir/envs/env/deps/csv/mix.exs:18\n",
      "\n",
      "\u001b[33mwarning: \u001b[0mfound quoted keyword \"coveralls\" but the quotes are not required. Note that keywords are always atoms, even when quoted, and quotes should only be used to introduce keywords with foreign characters in them\n",
      "  mix.exs:22\n",
      "\n",
      "\u001b[33mwarning: \u001b[0mredefining module IElixir.Mixfile (current version defined in memory)\n",
      "  mix.exs:1\n",
      "\n",
      "\u001b[33mwarning: \u001b[0mfound quoted keyword \"coveralls\" but the quotes are not required. Note that keywords are always atoms, even when quoted, and quotes should only be used to introduce keywords with foreign characters in them\n",
      "  /home/dimos/projects/elixir/IElixir/envs/env/deps/parallel_stream/mix.exs:17\n",
      "\n",
      "\u001b[33mwarning: \u001b[0mfound quoted keyword \"coveralls\" but the quotes are not required. Note that keywords are always atoms, even when quoted, and quotes should only be used to introduce keywords with foreign characters in them\n",
      "  /home/dimos/projects/elixir/IElixir/envs/env/deps/csv/mix.exs:18\n",
      "\n"
     ]
    },
    {
     "data": {
      "text/plain": [
       "Emel.Help.Model"
      ]
     },
     "execution_count": 1,
     "metadata": {},
     "output_type": "execute_result"
    }
   ],
   "source": [
    "Boyle.mk(\"env\")\n",
    "Boyle.activate(\"env\")\n",
    "Boyle.install({:emel, \"~> 0.3.0\"})\n",
    "Boyle.install({:csv, \"~> 2.0.0\"})\n",
    "alias Emel.Ml.DecisionTree, as: DT\n",
    "alias Emel.Help.Model, as: Mdl"
   ]
  },
  {
   "cell_type": "code",
   "execution_count": 2,
   "metadata": {},
   "outputs": [
    {
     "data": {
      "text/plain": [
       "%{\"gender\" => \"female\", \"lunch\" => \"standard\", \"math score\" => \"72\", \"parental level of education\" => \"bachelor's degree\", \"race/ethnicity\" => \"group B\", \"reading score\" => \"72\", \"test preparation course\" => \"none\", \"writing score\" => \"74\"}"
      ]
     },
     "execution_count": 2,
     "metadata": {},
     "output_type": "execute_result"
    }
   ],
   "source": [
    "dataset = \"../emel/notebooks/datasets/StudentsPerformance.csv\"\n",
    "    |> File.stream!()\n",
    "    |> CSV.decode!(headers: true)\n",
    "    |> Enum.to_list()\n",
    "hd(dataset)"
   ]
  },
  {
   "cell_type": "code",
   "execution_count": 3,
   "metadata": {
    "collapsed": true
   },
   "outputs": [
    {
     "data": {
      "text/plain": [
       "#Function<3.4184123/1 in Emel.Help.Model.categorizer/1>"
      ]
     },
     "execution_count": 3,
     "metadata": {},
     "output_type": "execute_result"
    }
   ],
   "source": [
    "categorizer =  Mdl.categorizer([\"Fail\", 40, \"Sub-Pass\", 45, \"Pass\"])"
   ]
  },
  {
   "cell_type": "code",
   "execution_count": 4,
   "metadata": {
    "collapsed": true
   },
   "outputs": [
    {
     "data": {
      "text/plain": [
       "[%{\"gender\" => \"female\", \"lunch\" => \"standard\", \"parental level of education\" => \"bachelor's degree\", \"race/ethnicity\" => \"group B\", \"test preparation course\" => \"none\", \"writing grade\" => \"Pass\"}, %{\"gender\" => \"female\", \"lunch\" => \"standard\", \"parental level of education\" => \"some college\", \"race/ethnicity\" => \"group C\", \"test preparation course\" => \"completed\", \"writing grade\" => \"Pass\"}, %{\"gender\" => \"female\", \"lunch\" => \"standard\", \"parental level of education\" => \"master's degree\", \"race/ethnicity\" => \"group B\", \"test preparation course\" => \"none\", \"writing grade\" => \"Pass\"}, %{\"gender\" => \"male\", \"lunch\" => \"free/reduced\", \"parental level of education\" => \"associate's degree\", \"race/ethnicity\" => \"group A\", \"test preparation course\" => \"none\", \"writing grade\" => \"Sub-Pass\"}, %{\"gender\" => \"male\", \"lunch\" => \"standard\", \"parental level of education\" => \"some college\", \"race/ethnicity\" => \"group C\", \"test preparation course\" => \"none\", \"writing grade\" => \"Pass\"}, %{\"gender\" => \"female\", \"lunch\" => \"standard\", \"parental level of education\" => \"associate's degree\", \"race/ethnicity\" => \"group B\", \"test preparation course\" => \"none\", \"writing grade\" => \"Pass\"}, %{\"gender\" => \"female\", \"lunch\" => \"standard\", \"parental level of education\" => \"some college\", \"race/ethnicity\" => \"group B\", \"test preparation course\" => \"completed\", \"writing grade\" => \"Pass\"}, %{\"gender\" => \"male\", \"lunch\" => \"free/reduced\", \"parental level of education\" => \"some college\", \"race/ethnicity\" => \"group B\", \"test preparation course\" => \"none\", \"writing grade\" => \"Fail\"}, %{\"gender\" => \"male\", \"lunch\" => \"free/reduced\", \"parental level of education\" => \"high school\", \"race/ethnicity\" => \"group D\", \"test preparation course\" => \"completed\", \"writing grade\" => \"Pass\"}, %{\"gender\" => \"female\", \"lunch\" => \"free/reduced\", \"parental level of education\" => \"high school\", \"race/ethnicity\" => \"group B\", \"test preparation course\" => \"none\", \"writing grade\" => \"Pass\"}, %{\"gender\" => \"male\", \"lunch\" => \"standard\", \"parental level of education\" => \"associate's degree\", \"race/ethnicity\" => \"group C\", \"test preparation course\" => \"none\", \"writing grade\" => \"Pass\"}, %{\"gender\" => \"male\", \"lunch\" => \"standard\", \"parental level of education\" => \"associate's degree\", \"race/ethnicity\" => \"group D\", \"test preparation course\" => \"none\", \"writing grade\" => \"Sub-Pass\"}, %{\"gender\" => \"female\", \"lunch\" => \"standard\", \"parental level of education\" => \"high school\", \"race/ethnicity\" => \"group B\", \"test preparation course\" => \"none\", \"writing grade\" => \"Pass\"}, %{\"gender\" => \"male\", \"lunch\" => \"standard\", \"parental level of education\" => \"some college\", \"race/ethnicity\" => \"group A\", \"test preparation course\" => \"completed\", \"writing grade\" => \"Pass\"}, %{\"gender\" => \"female\", \"lunch\" => \"standard\", \"parental level of education\" => \"master's degree\", \"race/ethnicity\" => \"group A\", \"test preparation course\" => \"none\", \"writing grade\" => \"Pass\"}, %{\"gender\" => \"female\", \"lunch\" => \"standard\", \"parental level of education\" => \"some high school\", \"race/ethnicity\" => \"group C\", \"test preparation course\" => \"none\", \"writing grade\" => \"Pass\"}, %{\"gender\" => \"male\", \"lunch\" => \"standard\", \"parental level of education\" => \"high school\", \"race/ethnicity\" => \"group C\", \"test preparation course\" => \"none\", \"writing grade\" => \"Pass\"}, %{\"gender\" => \"female\", \"lunch\" => \"free/reduced\", \"parental level of education\" => \"some high school\", \"race/ethnicity\" => \"group B\", \"test preparation course\" => \"none\", \"writing grade\" => \"Fail\"}, %{\"gender\" => \"male\", \"lunch\" => \"free/reduced\", \"parental level of education\" => \"master's degree\", \"race/ethnicity\" => \"group C\", \"test preparation course\" => \"completed\", \"writing grade\" => \"Pass\"}, %{\"gender\" => \"female\", \"lunch\" => \"free/reduced\", \"parental level of education\" => \"associate's degree\", \"race/ethnicity\" => \"group C\", \"test preparation course\" => \"none\", \"writing grade\" => \"Pass\"}, %{\"gender\" => \"male\", \"lunch\" => \"standard\", \"parental level of education\" => \"high school\", \"race/ethnicity\" => \"group D\", \"test preparation course\" => \"none\", \"writing grade\" => \"Pass\"}, %{\"gender\" => \"female\", \"lunch\" => \"free/reduced\", \"parental level of education\" => \"some college\", \"race/ethnicity\" => \"group B\", \"test preparation course\" => \"completed\", \"writing grade\" => \"Pass\"}, %{\"gender\" => \"male\", \"lunch\" => \"standard\", \"parental level of education\" => \"some college\", \"race/ethnicity\" => \"group D\", \"test preparation course\" => \"none\", \"writing grade\" => \"Pass\"}, %{\"gender\" => \"female\", \"lunch\" => \"standard\", \"parental level of education\" => \"some high school\", \"race/ethnicity\" => \"group C\", \"test preparation course\" => \"none\", \"writing grade\" => \"Pass\"}, %{\"gender\" => \"male\", \"lunch\" => \"free/reduced\", \"parental level of education\" => \"bachelor's degree\", \"race/ethnicity\" => \"group D\", \"test preparation course\" => \"completed\", \"writing grade\" => \"Pass\"}, %{\"gender\" => \"male\", \"lunch\" => \"free/reduced\", \"parental level of education\" => \"master's degree\", \"race/ethnicity\" => \"group A\", \"test preparation course\" => \"none\", \"writing grade\" => \"Pass\"}, %{\"gender\" => \"male\", \"lunch\" => \"standard\", \"parental level of education\" => \"some college\", \"race/ethnicity\" => \"group B\", \"test preparation course\" => \"none\", \"writing grade\" => \"Pass\"}, %{\"gender\" => \"female\", \"lunch\" => \"standard\", \"parental level of education\" => \"bachelor's degree\", \"race/ethnicity\" => \"group C\", \"test preparation course\" => \"none\", \"writing grade\" => \"Pass\"}, %{\"gender\" => \"male\", \"lunch\" => \"standard\", \"parental level of education\" => \"high school\", \"race/ethnicity\" => \"group C\", \"test preparation course\" => \"none\", \"writing grade\" => \"Pass\"}, %{\"gender\" => \"female\", \"lunch\" => \"standard\", \"parental level of education\" => \"master's degree\", \"race/ethnicity\" => \"group D\", \"test preparation course\" => \"none\", \"writing grade\" => \"Pass\"}, %{\"gender\" => \"female\", \"lunch\" => \"standard\", \"parental level of education\" => \"some college\", \"race/ethnicity\" => \"group D\", \"test preparation course\" => \"none\", \"writing grade\" => \"Pass\"}, %{\"gender\" => \"female\", \"lunch\" => \"standard\", \"parental level of education\" => \"some college\", \"race/ethnicity\" => \"group B\", \"test preparation course\" => \"none\", \"writing grade\" => \"Pass\"}, %{\"gender\" => \"female\", \"lunch\" => \"free/reduced\", \"parental level of education\" => \"master's degree\", \"race/ethnicity\" => \"group E\", \"test preparation course\" => \"none\", \"writing grade\" => \"Pass\"}, %{\"gender\" => \"male\", \"lunch\" => \"standard\", \"parental level of education\" => \"some college\", \"race/ethnicity\" => \"group D\", \"test preparation course\" => \"none\", \"writing grade\" => \"Fail\"}, %{\"gender\" => \"male\", \"lunch\" => \"standard\", \"parental level of education\" => \"some college\", \"race/ethnicity\" => \"group E\", \"test preparation course\" => \"none\", \"writing grade\" => \"Pass\"}, %{\"gender\" => \"male\", \"lunch\" => \"standard\", \"parental level of education\" => \"associate's degree\", \"race/ethnicity\" => \"group E\", \"test preparation course\" => \"completed\", \"writing grade\" => \"Pass\"}, %{\"gender\" => \"female\", \"lunch\" => \"standard\", \"parental level of education\" => \"associate's degree\", \"race/ethnicity\" => \"group D\", \"test preparation course\" => \"none\", \"writing grade\" => \"Pass\"}, %{\"gender\" => \"female\", \"lunch\" => \"free/reduced\", \"parental level of education\" => \"some high school\", \"race/ethnicity\" => \"group D\", \"test preparation course\" => \"none\", \"writing grade\" => \"Pass\"}, %{\"gender\" => \"female\", \"lunch\" => \"free/reduced\", \"parental level of education\" => \"associate's degree\", \"race/ethnicity\" => \"group D\", \"test preparation course\" => \"completed\", \"writing grade\" => \"Pass\"}, %{\"gender\" => \"male\", \"lunch\" => \"free/reduced\", \"parental level of education\" => \"associate's degree\", \"race/ethnicity\" => \"group B\", \"test preparation course\" => \"none\", \"writing grade\" => \"Pass\"}, %{\"gender\" => \"male\", \"lunch\" => \"free/reduced\", \"parental level of education\" => \"associate's degree\", \"race/ethnicity\" => \"group C\", \"test preparation course\" => \"none\", \"writing grade\" => \"Pass\"}, %{\"gender\" => \"female\", \"lunch\" => \"standard\", \"parental level of education\" => \"associate's degree\", \"race/ethnicity\" => \"group C\", \"test preparation course\" => \"none\", \"writing grade\" => \"Pass\"}, %{\"gender\" => \"female\", \"lunch\" => \"standard\", \"parental level of education\" => \"associate's degree\", \"race/ethnicity\" => \"group B\", \"test preparation course\" => \"none\", \"writing grade\" => \"Pass\"}, %{\"gender\" => \"male\", \"lunch\" => \"free/reduced\", \"parental level of education\" => \"some college\", \"race/ethnicity\" => \"group B\", \"test preparation course\" => \"completed\", \"writing grade\" => \"Pass\"}, %{\"gender\" => \"female\", \"lunch\" => \"free/reduced\", \"parental level of education\" => \"associate's degree\", \"race/ethnicity\" => \"group E\", \"test preparation course\" => \"none\", ...}, %{\"gender\" => \"male\", \"lunch\" => \"standard\", \"parental level of education\" => \"associate's degree\", \"race/ethnicity\" => \"group B\", ...}, %{\"gender\" => \"female\", \"lunch\" => \"standard\", \"parental level of education\" => \"associate's degree\", ...}, %{\"gender\" => \"female\", \"lunch\" => \"standard\", ...}, %{\"gender\" => \"female\", ...}, %{...}, ...]"
      ]
     },
     "execution_count": 4,
     "metadata": {},
     "output_type": "execute_result"
    }
   ],
   "source": [
    "parsed_dataset = Enum.map(\n",
    "  dataset,\n",
    "  fn %{\"writing score\" => score} = row ->\n",
    "    grade = score\n",
    "    |> Mdl.parse()\n",
    "    |> categorizer.()\n",
    "    row\n",
    "    |> Map.drop([\"math score\", \"reading score\", \"writing score\"])\n",
    "    |> Map.put(\"writing grade\", grade)\n",
    "  end\n",
    ")\n"
   ]
  },
  {
   "cell_type": "code",
   "execution_count": 5,
   "metadata": {},
   "outputs": [
    {
     "data": {
      "text/plain": [
       "%{\"gender\" => \"female\", \"lunch\" => \"standard\", \"parental level of education\" => \"bachelor's degree\", \"race/ethnicity\" => \"group B\", \"test preparation course\" => \"none\", \"writing grade\" => \"Pass\"}"
      ]
     },
     "execution_count": 5,
     "metadata": {},
     "output_type": "execute_result"
    }
   ],
   "source": [
    "hd(parsed_dataset)"
   ]
  },
  {
   "cell_type": "code",
   "execution_count": 6,
   "metadata": {
    "collapsed": true
   },
   "outputs": [
    {
     "data": {
      "text/plain": [
       "{[%{\"gender\" => \"female\", \"lunch\" => \"standard\", \"parental level of education\" => \"master's degree\", \"race/ethnicity\" => \"group D\", \"test preparation course\" => \"none\", \"writing grade\" => \"Pass\"}, %{\"gender\" => \"female\", \"lunch\" => \"standard\", \"parental level of education\" => \"high school\", \"race/ethnicity\" => \"group D\", \"test preparation course\" => \"none\", \"writing grade\" => \"Pass\"}, %{\"gender\" => \"female\", \"lunch\" => \"standard\", \"parental level of education\" => \"associate's degree\", \"race/ethnicity\" => \"group E\", \"test preparation course\" => \"none\", \"writing grade\" => \"Pass\"}, %{\"gender\" => \"female\", \"lunch\" => \"standard\", \"parental level of education\" => \"master's degree\", \"race/ethnicity\" => \"group E\", \"test preparation course\" => \"completed\", \"writing grade\" => \"Pass\"}, %{\"gender\" => \"male\", \"lunch\" => \"standard\", \"parental level of education\" => \"high school\", \"race/ethnicity\" => \"group D\", \"test preparation course\" => \"none\", \"writing grade\" => \"Pass\"}, %{\"gender\" => \"female\", \"lunch\" => \"standard\", \"parental level of education\" => \"high school\", \"race/ethnicity\" => \"group E\", \"test preparation course\" => \"completed\", \"writing grade\" => \"Pass\"}, %{\"gender\" => \"male\", \"lunch\" => \"free/reduced\", \"parental level of education\" => \"high school\", \"race/ethnicity\" => \"group D\", \"test preparation course\" => \"none\", \"writing grade\" => \"Pass\"}, %{\"gender\" => \"female\", \"lunch\" => \"free/reduced\", \"parental level of education\" => \"associate's degree\", \"race/ethnicity\" => \"group D\", \"test preparation course\" => \"none\", \"writing grade\" => \"Pass\"}, %{\"gender\" => \"male\", \"lunch\" => \"standard\", \"parental level of education\" => \"high school\", \"race/ethnicity\" => \"group D\", \"test preparation course\" => \"none\", \"writing grade\" => \"Pass\"}, %{\"gender\" => \"male\", \"lunch\" => \"free/reduced\", \"parental level of education\" => \"some college\", \"race/ethnicity\" => \"group B\", \"test preparation course\" => \"none\", \"writing grade\" => \"Pass\"}, %{\"gender\" => \"male\", \"lunch\" => \"standard\", \"parental level of education\" => \"some high school\", \"race/ethnicity\" => \"group C\", \"test preparation course\" => \"none\", \"writing grade\" => \"Pass\"}, %{\"gender\" => \"male\", \"lunch\" => \"free/reduced\", \"parental level of education\" => \"high school\", \"race/ethnicity\" => \"group D\", \"test preparation course\" => \"none\", \"writing grade\" => \"Pass\"}, %{\"gender\" => \"male\", \"lunch\" => \"standard\", \"parental level of education\" => \"some college\", \"race/ethnicity\" => \"group C\", \"test preparation course\" => \"none\", \"writing grade\" => \"Fail\"}, %{\"gender\" => \"female\", \"lunch\" => \"standard\", \"parental level of education\" => \"some college\", \"race/ethnicity\" => \"group C\", \"test preparation course\" => \"none\", \"writing grade\" => \"Pass\"}, %{\"gender\" => \"male\", \"lunch\" => \"standard\", \"parental level of education\" => \"some college\", \"race/ethnicity\" => \"group C\", \"test preparation course\" => \"none\", \"writing grade\" => \"Pass\"}, %{\"gender\" => \"male\", \"lunch\" => \"free/reduced\", \"parental level of education\" => \"some college\", \"race/ethnicity\" => \"group B\", \"test preparation course\" => \"completed\", \"writing grade\" => \"Pass\"}, %{\"gender\" => \"female\", \"lunch\" => \"free/reduced\", \"parental level of education\" => \"some college\", \"race/ethnicity\" => \"group B\", \"test preparation course\" => \"none\", \"writing grade\" => \"Pass\"}, %{\"gender\" => \"male\", \"lunch\" => \"standard\", \"parental level of education\" => \"some high school\", \"race/ethnicity\" => \"group B\", \"test preparation course\" => \"none\", \"writing grade\" => \"Pass\"}, %{\"gender\" => \"female\", \"lunch\" => \"standard\", \"parental level of education\" => \"some high school\", \"race/ethnicity\" => \"group D\", \"test preparation course\" => \"none\", \"writing grade\" => \"Pass\"}, %{\"gender\" => \"male\", \"lunch\" => \"standard\", \"parental level of education\" => \"associate's degree\", \"race/ethnicity\" => \"group C\", \"test preparation course\" => \"none\", \"writing grade\" => \"Pass\"}, %{\"gender\" => \"male\", \"lunch\" => \"free/reduced\", \"parental level of education\" => \"bachelor's degree\", \"race/ethnicity\" => \"group B\", \"test preparation course\" => \"completed\", \"writing grade\" => \"Pass\"}, %{\"gender\" => \"male\", \"lunch\" => \"standard\", \"parental level of education\" => \"some high school\", \"race/ethnicity\" => \"group B\", \"test preparation course\" => \"completed\", \"writing grade\" => \"Pass\"}, %{\"gender\" => \"female\", \"lunch\" => \"standard\", \"parental level of education\" => \"associate's degree\", \"race/ethnicity\" => \"group B\", \"test preparation course\" => \"none\", \"writing grade\" => \"Pass\"}, %{\"gender\" => \"female\", \"lunch\" => \"standard\", \"parental level of education\" => \"associate's degree\", \"race/ethnicity\" => \"group B\", \"test preparation course\" => \"none\", \"writing grade\" => \"Pass\"}, %{\"gender\" => \"male\", \"lunch\" => \"standard\", \"parental level of education\" => \"some high school\", \"race/ethnicity\" => \"group E\", \"test preparation course\" => \"completed\", \"writing grade\" => \"Pass\"}, %{\"gender\" => \"male\", \"lunch\" => \"standard\", \"parental level of education\" => \"high school\", \"race/ethnicity\" => \"group C\", \"test preparation course\" => \"none\", \"writing grade\" => \"Pass\"}, %{\"gender\" => \"male\", \"lunch\" => \"standard\", \"parental level of education\" => \"bachelor's degree\", \"race/ethnicity\" => \"group B\", \"test preparation course\" => \"none\", \"writing grade\" => \"Pass\"}, %{\"gender\" => \"male\", \"lunch\" => \"free/reduced\", \"parental level of education\" => \"associate's degree\", \"race/ethnicity\" => \"group A\", \"test preparation course\" => \"none\", \"writing grade\" => \"Pass\"}, %{\"gender\" => \"male\", \"lunch\" => \"standard\", \"parental level of education\" => \"some college\", \"race/ethnicity\" => \"group A\", \"test preparation course\" => \"none\", \"writing grade\" => \"Sub-Pass\"}, %{\"gender\" => \"male\", \"lunch\" => \"standard\", \"parental level of education\" => \"some college\", \"race/ethnicity\" => \"group E\", \"test preparation course\" => \"none\", \"writing grade\" => \"Pass\"}, %{\"gender\" => \"male\", \"lunch\" => \"standard\", \"parental level of education\" => \"some college\", \"race/ethnicity\" => \"group E\", \"test preparation course\" => \"completed\", \"writing grade\" => \"Pass\"}, %{\"gender\" => \"female\", \"lunch\" => \"standard\", \"parental level of education\" => \"some high school\", \"race/ethnicity\" => \"group B\", \"test preparation course\" => \"completed\", \"writing grade\" => \"Pass\"}, %{\"gender\" => \"male\", \"lunch\" => \"free/reduced\", \"parental level of education\" => \"some college\", \"race/ethnicity\" => \"group B\", \"test preparation course\" => \"none\", \"writing grade\" => \"Pass\"}, %{\"gender\" => \"male\", \"lunch\" => \"standard\", \"parental level of education\" => \"associate's degree\", \"race/ethnicity\" => \"group B\", \"test preparation course\" => \"completed\", \"writing grade\" => \"Pass\"}, %{\"gender\" => \"male\", \"lunch\" => \"standard\", \"parental level of education\" => \"associate's degree\", \"race/ethnicity\" => \"group D\", \"test preparation course\" => \"none\", \"writing grade\" => \"Sub-Pass\"}, %{\"gender\" => \"male\", \"lunch\" => \"standard\", \"parental level of education\" => \"high school\", \"race/ethnicity\" => \"group D\", \"test preparation course\" => \"none\", \"writing grade\" => \"Pass\"}, %{\"gender\" => \"female\", \"lunch\" => \"standard\", \"parental level of education\" => \"some college\", \"race/ethnicity\" => \"group E\", \"test preparation course\" => \"none\", \"writing grade\" => \"Pass\"}, %{\"gender\" => \"female\", \"lunch\" => \"standard\", \"parental level of education\" => \"some college\", \"race/ethnicity\" => \"group E\", \"test preparation course\" => \"none\", \"writing grade\" => \"Pass\"}, %{\"gender\" => \"male\", \"lunch\" => \"standard\", \"parental level of education\" => \"high school\", \"race/ethnicity\" => \"group B\", \"test preparation course\" => \"completed\", \"writing grade\" => \"Pass\"}, %{\"gender\" => \"female\", \"lunch\" => \"free/reduced\", \"parental level of education\" => \"some college\", \"race/ethnicity\" => \"group D\", \"test preparation course\" => \"completed\", \"writing grade\" => \"Pass\"}, %{\"gender\" => \"female\", \"lunch\" => \"free/reduced\", \"parental level of education\" => \"associate's degree\", \"race/ethnicity\" => \"group C\", \"test preparation course\" => \"none\", \"writing grade\" => \"Pass\"}, %{\"gender\" => \"male\", \"lunch\" => \"standard\", \"parental level of education\" => \"associate's degree\", \"race/ethnicity\" => \"group C\", \"test preparation course\" => \"none\", \"writing grade\" => \"Pass\"}, %{\"gender\" => \"female\", \"lunch\" => \"standard\", \"parental level of education\" => \"associate's degree\", \"race/ethnicity\" => \"group C\", \"test preparation course\" => \"none\", \"writing grade\" => \"Pass\"}, %{\"gender\" => \"male\", \"lunch\" => \"standard\", \"parental level of education\" => \"high school\", \"race/ethnicity\" => \"group A\", \"test preparation course\" => \"none\", ...}, %{\"gender\" => \"male\", \"lunch\" => \"free/reduced\", \"parental level of education\" => \"bachelor's degree\", \"race/ethnicity\" => \"group C\", ...}, %{\"gender\" => \"male\", \"lunch\" => \"standard\", \"parental level of education\" => \"some college\", ...}, %{\"gender\" => \"female\", \"lunch\" => \"standard\", ...}, %{\"gender\" => \"male\", ...}, %{...}, ...], [%{\"gender\" => \"male\", \"lunch\" => \"free/reduced\", \"parental level of education\" => \"some college\", \"race/ethnicity\" => \"group E\", \"test preparation course\" => \"none\", \"writing grade\" => \"Pass\"}, %{\"gender\" => \"male\", \"lunch\" => \"standard\", \"parental level of education\" => \"some college\", \"race/ethnicity\" => \"group B\", \"test preparation course\" => \"none\", \"writing grade\" => \"Sub-Pass\"}, %{\"gender\" => \"female\", \"lunch\" => \"standard\", \"parental level of education\" => \"associate's degree\", \"race/ethnicity\" => \"group E\", \"test preparation course\" => \"none\", \"writing grade\" => \"Pass\"}, %{\"gender\" => \"female\", \"lunch\" => \"standard\", \"parental level of education\" => \"some college\", \"race/ethnicity\" => \"group B\", \"test preparation course\" => \"none\", \"writing grade\" => \"Pass\"}, %{\"gender\" => \"female\", \"lunch\" => \"free/reduced\", \"parental level of education\" => \"associate's degree\", \"race/ethnicity\" => \"group D\", \"test preparation course\" => \"completed\", \"writing grade\" => \"Pass\"}, %{\"gender\" => \"male\", \"lunch\" => \"standard\", \"parental level of education\" => \"associate's degree\", \"race/ethnicity\" => \"group E\", \"test preparation course\" => \"completed\", \"writing grade\" => \"Pass\"}, %{\"gender\" => \"male\", \"lunch\" => \"standard\", \"parental level of education\" => \"some college\", \"race/ethnicity\" => \"group C\", \"test preparation course\" => \"none\", \"writing grade\" => \"Pass\"}, %{\"gender\" => \"female\", \"lunch\" => \"free/reduced\", \"parental level of education\" => \"high school\", \"race/ethnicity\" => \"group B\", \"test preparation course\" => \"none\", \"writing grade\" => \"Pass\"}, %{\"gender\" => \"female\", \"lunch\" => \"free/reduced\", \"parental level of education\" => \"associate's degree\", \"race/ethnicity\" => \"group D\", \"test preparation course\" => \"completed\", \"writing grade\" => \"Pass\"}, %{\"gender\" => \"female\", \"lunch\" => \"free/reduced\", \"parental level of education\" => \"associate's degree\", \"race/ethnicity\" => \"group D\", \"test preparation course\" => \"completed\", \"writing grade\" => \"Pass\"}, %{\"gender\" => \"male\", \"lunch\" => \"standard\", \"parental level of education\" => \"high school\", \"race/ethnicity\" => \"group D\", \"test preparation course\" => \"none\", \"writing grade\" => \"Pass\"}, %{\"gender\" => \"female\", \"lunch\" => \"standard\", \"parental level of education\" => \"some college\", \"race/ethnicity\" => \"group B\", \"test preparation course\" => \"none\", \"writing grade\" => \"Pass\"}, %{\"gender\" => \"male\", \"lunch\" => \"standard\", \"parental level of education\" => \"some college\", \"race/ethnicity\" => \"group D\", \"test preparation course\" => \"none\", \"writing grade\" => \"Pass\"}, %{\"gender\" => \"female\", \"lunch\" => \"standard\", \"parental level of education\" => \"some college\", \"race/ethnicity\" => \"group C\", \"test preparation course\" => \"completed\", \"writing grade\" => \"Pass\"}, %{\"gender\" => \"male\", \"lunch\" => \"standard\", \"parental level of education\" => \"some college\", \"race/ethnicity\" => \"group B\", \"test preparation course\" => \"completed\", \"writing grade\" => \"Pass\"}, %{\"gender\" => \"female\", \"lunch\" => \"free/reduced\", \"parental level of education\" => \"some high school\", \"race/ethnicity\" => \"group B\", \"test preparation course\" => \"none\", \"writing grade\" => \"Pass\"}, %{\"gender\" => \"female\", \"lunch\" => \"standard\", \"parental level of education\" => \"high school\", \"race/ethnicity\" => \"group B\", \"test preparation course\" => \"completed\", \"writing grade\" => \"Pass\"}, %{\"gender\" => \"female\", \"lunch\" => \"free/reduced\", \"parental level of education\" => \"associate's degree\", \"race/ethnicity\" => \"group D\", \"test preparation course\" => \"none\", \"writing grade\" => \"Pass\"}, %{\"gender\" => \"female\", \"lunch\" => \"standard\", \"parental level of education\" => \"associate's degree\", \"race/ethnicity\" => \"group B\", \"test preparation course\" => \"none\", \"writing grade\" => \"Pass\"}, %{\"gender\" => \"male\", \"lunch\" => \"standard\", \"parental level of education\" => \"bachelor's degree\", \"race/ethnicity\" => \"group D\", \"test preparation course\" => \"none\", \"writing grade\" => \"Pass\"}, %{\"gender\" => \"female\", \"lunch\" => \"free/reduced\", \"parental level of education\" => \"some high school\", \"race/ethnicity\" => \"group B\", \"test preparation course\" => \"completed\", \"writing grade\" => \"Pass\"}, %{\"gender\" => \"female\", \"lunch\" => \"free/reduced\", \"parental level of education\" => \"bachelor's degree\", \"race/ethnicity\" => \"group B\", \"test preparation course\" => \"none\", \"writing grade\" => \"Pass\"}, %{\"gender\" => \"female\", \"lunch\" => \"free/reduced\", \"parental level of education\" => \"bachelor's degree\", \"race/ethnicity\" => \"group C\", \"test preparation course\" => \"completed\", \"writing grade\" => \"Pass\"}, %{\"gender\" => \"female\", \"lunch\" => \"standard\", \"parental level of education\" => \"associate's degree\", \"race/ethnicity\" => \"group B\", \"test preparation course\" => \"completed\", \"writing grade\" => \"Pass\"}, %{\"gender\" => \"male\", \"lunch\" => \"free/reduced\", \"parental level of education\" => \"bachelor's degree\", \"race/ethnicity\" => \"group C\", \"test preparation course\" => \"none\", \"writing grade\" => \"Pass\"}, %{\"gender\" => \"male\", \"lunch\" => \"free/reduced\", \"parental level of education\" => \"associate's degree\", \"race/ethnicity\" => \"group D\", \"test preparation course\" => \"none\", \"writing grade\" => \"Pass\"}, %{\"gender\" => \"male\", \"lunch\" => \"standard\", \"parental level of education\" => \"associate's degree\", \"race/ethnicity\" => \"group E\", \"test preparation course\" => \"completed\", \"writing grade\" => \"Pass\"}, %{\"gender\" => \"male\", \"lunch\" => \"free/reduced\", \"parental level of education\" => \"some high school\", \"race/ethnicity\" => \"group C\", \"test preparation course\" => \"completed\", \"writing grade\" => \"Pass\"}, %{\"gender\" => \"female\", \"lunch\" => \"standard\", \"parental level of education\" => \"some college\", \"race/ethnicity\" => \"group B\", \"test preparation course\" => \"none\", \"writing grade\" => \"Pass\"}, %{\"gender\" => \"male\", \"lunch\" => \"standard\", \"parental level of education\" => \"high school\", \"race/ethnicity\" => \"group D\", \"test preparation course\" => \"none\", \"writing grade\" => \"Fail\"}, %{\"gender\" => \"female\", \"lunch\" => \"standard\", \"parental level of education\" => \"some high school\", \"race/ethnicity\" => \"group D\", \"test preparation course\" => \"none\", \"writing grade\" => \"Pass\"}, %{\"gender\" => \"female\", \"lunch\" => \"standard\", \"parental level of education\" => \"master's degree\", \"race/ethnicity\" => \"group A\", \"test preparation course\" => \"none\", \"writing grade\" => \"Pass\"}, %{\"gender\" => \"female\", \"lunch\" => \"standard\", \"parental level of education\" => \"high school\", \"race/ethnicity\" => \"group B\", \"test preparation course\" => \"completed\", \"writing grade\" => \"Pass\"}, %{\"gender\" => \"female\", \"lunch\" => \"standard\", \"parental level of education\" => \"bachelor's degree\", \"race/ethnicity\" => \"group E\", \"test preparation course\" => \"none\", \"writing grade\" => \"Fail\"}, %{\"gender\" => \"female\", \"lunch\" => \"standard\", \"parental level of education\" => \"associate's degree\", \"race/ethnicity\" => \"group A\", \"test preparation course\" => \"completed\", \"writing grade\" => \"Pass\"}, %{\"gender\" => \"male\", \"lunch\" => \"standard\", \"parental level of education\" => \"bachelor's degree\", \"race/ethnicity\" => \"group C\", \"test preparation course\" => \"completed\", \"writing grade\" => \"Pass\"}, %{\"gender\" => \"female\", \"lunch\" => \"standard\", \"parental level of education\" => \"some high school\", \"race/ethnicity\" => \"group E\", \"test preparation course\" => \"completed\", \"writing grade\" => \"Pass\"}, %{\"gender\" => \"male\", \"lunch\" => \"standard\", \"parental level of education\" => \"some high school\", \"race/ethnicity\" => \"group D\", \"test preparation course\" => \"none\", \"writing grade\" => \"Pass\"}, %{\"gender\" => \"female\", \"lunch\" => \"standard\", \"parental level of education\" => \"associate's degree\", \"race/ethnicity\" => \"group D\", \"test preparation course\" => \"none\", \"writing grade\" => \"Pass\"}, %{\"gender\" => \"male\", \"lunch\" => \"standard\", \"parental level of education\" => \"some college\", \"race/ethnicity\" => \"group E\", \"test preparation course\" => \"completed\", \"writing grade\" => \"Pass\"}, %{\"gender\" => \"female\", \"lunch\" => \"free/reduced\", \"parental level of education\" => \"some college\", \"race/ethnicity\" => \"group C\", \"test preparation course\" => \"completed\", \"writing grade\" => \"Pass\"}, %{\"gender\" => \"male\", \"lunch\" => \"standard\", \"parental level of education\" => \"some high school\", \"race/ethnicity\" => \"group D\", \"test preparation course\" => \"none\", \"writing grade\" => \"Pass\"}, %{\"gender\" => \"female\", \"lunch\" => \"free/reduced\", \"parental level of education\" => \"some high school\", \"race/ethnicity\" => \"group B\", \"test preparation course\" => \"completed\", ...}, %{\"gender\" => \"male\", \"lunch\" => \"standard\", \"parental level of education\" => \"high school\", \"race/ethnicity\" => \"group C\", ...}, %{\"gender\" => \"female\", \"lunch\" => \"standard\", \"parental level of education\" => \"some college\", ...}, %{\"gender\" => \"male\", \"lunch\" => \"free/reduced\", ...}, %{\"gender\" => \"female\", ...}, %{...}, ...]}"
      ]
     },
     "execution_count": 6,
     "metadata": {},
     "output_type": "execute_result"
    }
   ],
   "source": [
    "{training_set, test_set} = Mdl.training_and_test_sets(parsed_dataset, 0.75)"
   ]
  },
  {
   "cell_type": "code",
   "execution_count": 7,
   "metadata": {
    "collapsed": true
   },
   "outputs": [
    {
     "data": {
      "text/plain": [
       "#Function<5.94015813/1 in Emel.Ml.DecisionTree.classifier/3>"
      ]
     },
     "execution_count": 7,
     "metadata": {},
     "output_type": "execute_result"
    }
   ],
   "source": [
    "discrete_attributes = [\n",
    "  \"gender\",\n",
    "  \"lunch\",\n",
    "  \"parental level of education\",\n",
    "  \"race/ethnicity\",\n",
    "  \"test preparation course\"\n",
    "]\n",
    "class = \"writing grade\"\n",
    "f = DT.classifier(training_set, discrete_attributes, class)"
   ]
  },
  {
   "cell_type": "code",
   "execution_count": 8,
   "metadata": {},
   "outputs": [
    {
     "data": {
      "text/plain": [
       "[\"Pass\", \"Sub-Pass\", \"Pass\", \"Pass\", \"Pass\"]"
      ]
     },
     "execution_count": 8,
     "metadata": {},
     "output_type": "execute_result"
    }
   ],
   "source": [
    "observations = Enum.map(test_set, fn %{\"writing grade\" => grade} -> grade end)\n",
    "Enum.take(observations, 5)"
   ]
  },
  {
   "cell_type": "code",
   "execution_count": 9,
   "metadata": {},
   "outputs": [
    {
     "data": {
      "text/plain": [
       "[\"Pass\", \"Pass\", \"Pass\", \"Fail\", \"Pass\"]"
      ]
     },
     "execution_count": 9,
     "metadata": {},
     "output_type": "execute_result"
    }
   ],
   "source": [
    "predictions = Enum.map(test_set, fn row -> f.(row) end)\n",
    "Enum.take(predictions, 5)"
   ]
  },
  {
   "cell_type": "code",
   "execution_count": 10,
   "metadata": {},
   "outputs": [
    {
     "data": {
      "text/plain": [
       "0.9"
      ]
     },
     "execution_count": 10,
     "metadata": {},
     "output_type": "execute_result"
    }
   ],
   "source": [
    "Emel.Math.Statistics.similarity(predictions, observations)"
   ]
  }
 ],
 "metadata": {
  "kernelspec": {
   "display_name": "Elixir",
   "language": "Elixir",
   "name": "ielixir"
  },
  "language_info": {
   "codemirror_mode": "elixir",
   "file_extension": "ex",
   "mimetype": "text/x-elixir",
   "name": "elixir",
   "nbconvert_exporter": "",
   "pygments_lexer": "elixir",
   "version": "1.7.4"
  }
 },
 "nbformat": 4,
 "nbformat_minor": 2
}
