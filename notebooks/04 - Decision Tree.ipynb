{
 "cells": [
  {
   "cell_type": "code",
   "execution_count": null,
   "metadata": {
    "scrolled": true
   },
   "outputs": [],
   "source": [
    "Boyle.mk(\"env\")\n",
    "Boyle.activate(\"env\")\n",
    "Boyle.install({:emel, \"~> 0.3.0\"})\n",
    "Boyle.install({:csv, \"~> 2.0.0\"})\n",
    "alias Emel.Ml.DecisionTree, as: DT\n",
    "alias Emel.Help.Model, as: Mdl"
   ]
  },
  {
   "cell_type": "code",
   "execution_count": 2,
   "metadata": {},
   "outputs": [
    {
     "data": {
      "text/plain": [
       "%{\"gender\" => \"female\", \"lunch\" => \"standard\", \"math score\" => \"72\", \"parental level of education\" => \"bachelor's degree\", \"race/ethnicity\" => \"group B\", \"reading score\" => \"72\", \"test preparation course\" => \"none\", \"writing score\" => \"74\"}"
      ]
     },
     "execution_count": 2,
     "metadata": {},
     "output_type": "execute_result"
    }
   ],
   "source": [
    "dataset = \"../emel/notebooks/datasets/StudentsPerformance.csv\"\n",
    "    |> File.stream!()\n",
    "    |> CSV.decode!(headers: true)\n",
    "    |> Enum.to_list()\n",
    "hd(dataset)"
   ]
  },
  {
   "cell_type": "code",
   "execution_count": null,
   "metadata": {
    "scrolled": true
   },
   "outputs": [],
   "source": [
    "categorizer =  Mdl.categorizer([\"Fail\", 40, \"Sub-Pass\", 45, \"Pass\"])"
   ]
  },
  {
   "cell_type": "code",
   "execution_count": null,
   "metadata": {
    "scrolled": true
   },
   "outputs": [],
   "source": [
    "parsed_dataset = Enum.map(\n",
    "  dataset,\n",
    "  fn %{\"writing score\" => score} = row ->\n",
    "    grade = score\n",
    "    |> Mdl.parse()\n",
    "    |> categorizer.()\n",
    "    row\n",
    "    |> Map.drop([\"math score\", \"reading score\", \"writing score\"])\n",
    "    |> Map.put(\"writing grade\", grade)\n",
    "  end\n",
    ")"
   ]
  },
  {
   "cell_type": "code",
   "execution_count": 5,
   "metadata": {},
   "outputs": [
    {
     "data": {
      "text/plain": [
       "%{\"gender\" => \"female\", \"lunch\" => \"standard\", \"parental level of education\" => \"bachelor's degree\", \"race/ethnicity\" => \"group B\", \"test preparation course\" => \"none\", \"writing grade\" => \"Pass\"}"
      ]
     },
     "execution_count": 5,
     "metadata": {},
     "output_type": "execute_result"
    }
   ],
   "source": [
    "hd(parsed_dataset)"
   ]
  },
  {
   "cell_type": "code",
   "execution_count": null,
   "metadata": {
    "scrolled": false
   },
   "outputs": [],
   "source": [
    "{training_set, test_set} = Mdl.training_and_test_sets(parsed_dataset, 0.75)"
   ]
  },
  {
   "cell_type": "code",
   "execution_count": null,
   "metadata": {
    "scrolled": true
   },
   "outputs": [],
   "source": [
    "discrete_attributes = [\n",
    "  \"gender\",\n",
    "  \"lunch\",\n",
    "  \"parental level of education\",\n",
    "  \"race/ethnicity\",\n",
    "  \"test preparation course\"\n",
    "]\n",
    "class = \"writing grade\"\n",
    "f = DT.classifier(training_set, discrete_attributes, class)"
   ]
  },
  {
   "cell_type": "code",
   "execution_count": 8,
   "metadata": {},
   "outputs": [
    {
     "data": {
      "text/plain": [
       "[\"Pass\", \"Pass\", \"Pass\", \"Pass\", \"Pass\"]"
      ]
     },
     "execution_count": 8,
     "metadata": {},
     "output_type": "execute_result"
    }
   ],
   "source": [
    "observations = Enum.map(test_set, fn %{\"writing grade\" => grade} -> grade end)\n",
    "Enum.take(observations, 5)"
   ]
  },
  {
   "cell_type": "code",
   "execution_count": 9,
   "metadata": {},
   "outputs": [
    {
     "data": {
      "text/plain": [
       "[\"Fail\", \"Pass\", \"Pass\", \"Pass\", \"Pass\"]"
      ]
     },
     "execution_count": 9,
     "metadata": {},
     "output_type": "execute_result"
    }
   ],
   "source": [
    "predictions = Enum.map(test_set, fn row -> f.(row) end)\n",
    "Enum.take(predictions, 5)"
   ]
  },
  {
   "cell_type": "code",
   "execution_count": 10,
   "metadata": {},
   "outputs": [
    {
     "data": {
      "text/plain": [
       "0.9"
      ]
     },
     "execution_count": 10,
     "metadata": {},
     "output_type": "execute_result"
    }
   ],
   "source": [
    "Emel.Math.Statistics.similarity(predictions, observations)"
   ]
  }
 ],
 "metadata": {
  "kernelspec": {
   "display_name": "Elixir",
   "language": "Elixir",
   "name": "ielixir"
  },
  "language_info": {
   "codemirror_mode": "elixir",
   "file_extension": "ex",
   "mimetype": "text/x-elixir",
   "name": "elixir",
   "nbconvert_exporter": "",
   "pygments_lexer": "elixir",
   "version": "1.7.4"
  }
 },
 "nbformat": 4,
 "nbformat_minor": 2
}
