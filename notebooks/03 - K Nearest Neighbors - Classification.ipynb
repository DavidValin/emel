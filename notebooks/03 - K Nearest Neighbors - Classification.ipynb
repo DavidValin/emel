{
 "cells": [
  {
   "cell_type": "code",
   "execution_count": 1,
   "metadata": {
    "collapsed": true
   },
   "outputs": [
    {
     "name": "stdout",
     "output_type": "stream",
     "text": [
      "All dependencies up to date\n",
      "All dependencies up to date\n",
      "Resolving Hex dependencies...\n",
      "Dependency resolution completed:\n",
      "Unchanged:\n",
      "\u001b[32m  csv 2.0.0\u001b[0m\n",
      "\u001b[32m  emel 0.3.0\u001b[0m\n",
      "\u001b[32m  parallel_stream 1.0.6\u001b[0m\n",
      "All dependencies up to date\n"
     ]
    },
    {
     "name": "stderr",
     "output_type": "stream",
     "text": [
      "\u001b[33mwarning: \u001b[0mfound quoted keyword \"coveralls\" but the quotes are not required. Note that keywords are always atoms, even when quoted, and quotes should only be used to introduce keywords with foreign characters in them\n",
      "  mix.exs:22\n",
      "\n",
      "\u001b[33mwarning: \u001b[0mredefining module IElixir.Mixfile (current version defined in memory)\n",
      "  mix.exs:1\n",
      "\n",
      "\u001b[33mwarning: \u001b[0mfound quoted keyword \"coveralls\" but the quotes are not required. Note that keywords are always atoms, even when quoted, and quotes should only be used to introduce keywords with foreign characters in them\n",
      "  mix.exs:22\n",
      "\n",
      "\u001b[33mwarning: \u001b[0mredefining module IElixir.Mixfile (current version defined in memory)\n",
      "  mix.exs:1\n",
      "\n",
      "\u001b[33mwarning: \u001b[0mfound quoted keyword \"coveralls\" but the quotes are not required. Note that keywords are always atoms, even when quoted, and quotes should only be used to introduce keywords with foreign characters in them\n",
      "  /home/dimos/projects/elixir/IElixir/envs/env/deps/parallel_stream/mix.exs:17\n",
      "\n",
      "\u001b[33mwarning: \u001b[0mfound quoted keyword \"coveralls\" but the quotes are not required. Note that keywords are always atoms, even when quoted, and quotes should only be used to introduce keywords with foreign characters in them\n",
      "  /home/dimos/projects/elixir/IElixir/envs/env/deps/csv/mix.exs:18\n",
      "\n"
     ]
    },
    {
     "data": {
      "text/plain": [
       "Emel.Ml.KNearestNeighbors"
      ]
     },
     "execution_count": 1,
     "metadata": {},
     "output_type": "execute_result"
    }
   ],
   "source": [
    "Boyle.mk(\"env\")\n",
    "Boyle.activate(\"env\")\n",
    "Boyle.install({:emel, \"~> 0.3.0\"})\n",
    "alias Emel.Ml.KNearestNeighbors, as: KNN"
   ]
  },
  {
   "cell_type": "code",
   "execution_count": 2,
   "metadata": {
    "collapsed": true
   },
   "outputs": [
    {
     "data": {
      "text/plain": [
       "#Function<12.128620087/2 in :erl_eval.expr/5>"
      ]
     },
     "execution_count": 2,
     "metadata": {},
     "output_type": "execute_result"
    }
   ],
   "source": [
    "ring = fn (x1, x2) ->\n",
    "  magnitude = :math.sqrt(x1 * x1 + x2 * x2 + :rand.uniform()) \n",
    "  cond do\n",
    "    magnitude < 6 -> \"inner\"\n",
    "    magnitude > 9 -> \"outer\"\n",
    "    true -> \"in between\"\n",
    "  end\n",
    "end"
   ]
  },
  {
   "cell_type": "code",
   "execution_count": 3,
   "metadata": {},
   "outputs": [
    {
     "data": {
      "text/plain": [
       "[%{x1: -6, x2: 6, y: \"in between\"}, %{x1: -6, x2: 7, y: \"outer\"}]"
      ]
     },
     "execution_count": 3,
     "metadata": {},
     "output_type": "execute_result"
    }
   ],
   "source": [
    "dataset = for x1 <- -10..10, x2 <- -10..10, do: %{x1: x1, x2: x2, y: ring.(x1, x2)}\n",
    "dataset |> Enum.drop(100) |> Enum.take(2)"
   ]
  },
  {
   "cell_type": "code",
   "execution_count": 4,
   "metadata": {
    "collapsed": true
   },
   "outputs": [
    {
     "data": {
      "text/plain": [
       "{[%{x1: -5, x2: 6, y: \"in between\"}, %{x1: 9, x2: 7, y: \"outer\"}, %{x1: 2, x2: 0, y: \"inner\"}, %{x1: -5, x2: 7, y: \"in between\"}, %{x1: 4, x2: -8, y: \"in between\"}, %{x1: 7, x2: 5, y: \"in between\"}, %{x1: 7, x2: 1, y: \"in between\"}, %{x1: -1, x2: 0, y: \"inner\"}, %{x1: -9, x2: 10, y: \"outer\"}, %{x1: 10, x2: -5, y: \"outer\"}, %{x1: 9, x2: -4, y: \"outer\"}, %{x1: 6, x2: 4, y: \"in between\"}, %{x1: 2, x2: -5, y: \"inner\"}, %{x1: -3, x2: -1, y: \"inner\"}, %{x1: -6, x2: 8, y: \"outer\"}, %{x1: -10, x2: 9, y: \"outer\"}, %{x1: -2, x2: -9, y: \"outer\"}, %{x1: -2, x2: -6, y: \"in between\"}, %{x1: 8, x2: 8, y: \"outer\"}, %{x1: 7, x2: 8, y: \"outer\"}, %{x1: 0, x2: 0, y: \"inner\"}, %{x1: 2, x2: -4, y: \"inner\"}, %{x1: -9, x2: 1, y: \"outer\"}, %{x1: -2, x2: 1, y: \"inner\"}, %{x1: -4, x2: -1, y: \"inner\"}, %{x1: -9, x2: 0, y: \"outer\"}, %{x1: -3, x2: 3, y: \"inner\"}, %{x1: -6, x2: -1, y: \"in between\"}, %{x1: -8, x2: 7, y: \"outer\"}, %{x1: -8, x2: 10, y: \"outer\"}, %{x1: -9, x2: -8, y: \"outer\"}, %{x1: 2, x2: 8, y: \"in between\"}, %{x1: -3, x2: -6, y: \"in between\"}, %{x1: 2, x2: 2, y: \"inner\"}, %{x1: -9, x2: -4, y: \"outer\"}, %{x1: -9, x2: 4, y: \"outer\"}, %{x1: 6, x2: 10, y: \"outer\"}, %{x1: -8, x2: -6, y: \"outer\"}, %{x1: 2, x2: 6, y: \"in between\"}, %{x1: -6, x2: 0, y: \"in between\"}, %{x1: 1, x2: -8, y: \"in between\"}, %{x1: -3, x2: 1, y: \"inner\"}, %{x1: 0, x2: 10, y: \"outer\"}, %{x1: -8, x2: 5, y: \"outer\"}, %{x1: -9, x2: -3, y: \"outer\"}, %{x1: -7, x2: -6, y: \"outer\"}, %{x1: -4, x2: 9, ...}, %{x1: 5, ...}, %{...}, ...], [%{x1: 6, x2: 0, y: \"in between\"}, %{x1: -9, x2: 7, y: \"outer\"}, %{x1: -6, x2: 6, y: \"in between\"}, %{x1: -6, x2: 7, y: \"outer\"}, %{x1: 4, x2: -10, y: \"outer\"}, %{x1: 3, x2: -2, y: \"inner\"}, %{x1: -2, x2: 9, y: \"outer\"}, %{x1: 10, x2: 1, y: \"outer\"}, %{x1: -7, x2: 2, y: \"in between\"}, %{x1: 0, x2: 7, y: \"in between\"}, %{x1: -4, x2: -7, y: \"in between\"}, %{x1: -10, x2: 2, y: \"outer\"}, %{x1: -8, x2: -7, y: \"outer\"}, %{x1: 5, x2: 3, y: \"inner\"}, %{x1: 3, x2: -1, y: \"inner\"}, %{x1: 1, x2: 10, y: \"outer\"}, %{x1: -5, x2: 2, y: \"inner\"}, %{x1: -3, x2: -2, y: \"inner\"}, %{x1: -9, x2: 8, y: \"outer\"}, %{x1: -1, x2: 1, y: \"inner\"}, %{x1: -10, x2: 4, y: \"outer\"}, %{x1: -10, x2: 10, y: \"outer\"}, %{x1: 7, x2: 7, y: \"outer\"}, %{x1: -8, x2: 0, y: \"in between\"}, %{x1: 2, x2: 5, y: \"inner\"}, %{x1: 6, x2: -6, y: \"in between\"}, %{x1: 5, x2: -8, y: \"outer\"}, %{x1: 0, x2: 3, y: \"inner\"}, %{x1: 9, x2: 9, y: \"outer\"}, %{x1: -7, x2: 10, y: \"outer\"}, %{x1: 0, x2: -2, y: \"inner\"}, %{x1: 5, x2: -5, y: \"in between\"}, %{x1: 0, x2: 2, y: \"inner\"}, %{x1: 10, x2: 10, y: \"outer\"}, %{x1: -2, x2: -10, y: \"outer\"}, %{x1: -10, x2: 8, y: \"outer\"}, %{x1: 4, x2: 2, y: \"inner\"}, %{x1: 1, x2: -10, y: \"outer\"}, %{x1: 4, x2: -5, y: \"in between\"}, %{x1: -2, x2: 10, y: \"outer\"}, %{x1: -3, x2: -4, y: \"inner\"}, %{x1: -5, x2: -7, y: \"in between\"}, %{x1: 8, x2: 3, y: \"in between\"}, %{x1: -2, x2: -3, y: \"inner\"}, %{x1: 10, x2: -9, y: \"outer\"}, %{x1: -5, x2: 10, ...}, %{x1: 5, ...}, %{...}, ...]}"
      ]
     },
     "execution_count": 4,
     "metadata": {},
     "output_type": "execute_result"
    }
   ],
   "source": [
    "{training_set, test_set} = Emel.Help.Model.training_and_test_sets(dataset, 0.7)"
   ]
  },
  {
   "cell_type": "code",
   "execution_count": 5,
   "metadata": {
    "collapsed": true
   },
   "outputs": [
    {
     "data": {
      "text/plain": [
       "#Function<0.125921798/1 in Emel.Ml.KNearestNeighbors.classifier/4>"
      ]
     },
     "execution_count": 5,
     "metadata": {},
     "output_type": "execute_result"
    }
   ],
   "source": [
    "independent_variables = [:x1, :x2]\n",
    "dependent_variable = :y\n",
    "k = 3\n",
    "f = KNN.classifier(training_set, independent_variables, dependent_variable, k)"
   ]
  },
  {
   "cell_type": "code",
   "execution_count": 6,
   "metadata": {},
   "outputs": [
    {
     "data": {
      "text/plain": [
       "[\"in between\", \"outer\", \"in between\", \"outer\"]"
      ]
     },
     "execution_count": 6,
     "metadata": {},
     "output_type": "execute_result"
    }
   ],
   "source": [
    "observations = Enum.map(test_set, fn %{y: y} -> y end)\n",
    "Enum.take(observations, 4)"
   ]
  },
  {
   "cell_type": "code",
   "execution_count": 7,
   "metadata": {},
   "outputs": [
    {
     "data": {
      "text/plain": [
       "[\"in between\", \"outer\", \"in between\", \"outer\"]"
      ]
     },
     "execution_count": 7,
     "metadata": {},
     "output_type": "execute_result"
    }
   ],
   "source": [
    "predictions = Enum.map(test_set, fn row -> f.(row) end)\n",
    "Enum.take(predictions, 4)"
   ]
  },
  {
   "cell_type": "code",
   "execution_count": 8,
   "metadata": {},
   "outputs": [
    {
     "data": {
      "text/plain": [
       "0.9172932330827067"
      ]
     },
     "execution_count": 8,
     "metadata": {},
     "output_type": "execute_result"
    }
   ],
   "source": [
    "Emel.Math.Statistics.similarity(predictions, observations)"
   ]
  }
 ],
 "metadata": {
  "kernelspec": {
   "display_name": "Elixir",
   "language": "Elixir",
   "name": "ielixir"
  },
  "language_info": {
   "codemirror_mode": "elixir",
   "file_extension": "ex",
   "mimetype": "text/x-elixir",
   "name": "elixir",
   "nbconvert_exporter": "",
   "pygments_lexer": "elixir",
   "version": "1.7.4"
  }
 },
 "nbformat": 4,
 "nbformat_minor": 2
}
