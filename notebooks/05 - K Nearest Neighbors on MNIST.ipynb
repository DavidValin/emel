{
 "cells": [
  {
   "cell_type": "code",
   "execution_count": null,
   "metadata": {},
   "outputs": [],
   "source": [
    "Boyle.mk(\"env\")\n",
    "Boyle.activate(\"env\")\n",
    "Boyle.install({:emel, \"~> 0.3.0\"})\n",
    "Boyle.install({:csv, \"~> 2.0.0\"})\n",
    "alias Emel.Ml.KNearestNeighbors, as: KNN\n",
    "alias Emel.Help.Model, as: Mdl"
   ]
  },
  {
   "cell_type": "code",
   "execution_count": 2,
   "metadata": {},
   "outputs": [
    {
     "data": {
      "text/plain": [
       "%{\"4x2\" => \"0\", \"14x27\" => \"0\", \"7x3\" => \"0\", \"8x25\" => \"0\", \"24x28\" => \"0\", \"18x2\" => \"0\", \"12x4\" => \"0\", \"1x9\" => \"0\", \"21x2\" => \"0\", \"8x12\" => \"253\", \"15x4\" => \"0\", \"19x19\" => \"253\", \"3x17\" => \"0\", \"15x21\" => \"0\", \"19x18\" => \"253\", \"15x27\" => \"0\", \"14x11\" => \"0\", \"26x24\" => \"0\", \"16x23\" => \"0\", \"12x11\" => \"0\", \"4x10\" => \"0\", \"27x8\" => \"0\", \"23x3\" => \"0\", \"2x18\" => \"0\", \"1x28\" => \"0\", \"22x16\" => \"198\", \"8x15\" => \"253\", \"16x28\" => \"0\", \"12x15\" => \"2\", \"20x18\" => \"253\", \"10x17\" => \"43\", \"19x13\" => \"0\", \"3x8\" => \"0\", \"21x13\" => \"221\", \"5x7\" => \"0\", \"26x9\" => \"0\", \"17x12\" => \"0\", \"28x5\" => \"0\", \"24x6\" => \"172\", \"2x6\" => \"0\", \"5x20\" => \"0\", \"4x25\" => \"0\", \"28x10\" => \"0\", \"17x20\" => \"187\", \"2x7\" => \"0\", \"18x23\" => \"0\", \"21x5\" => \"0\", \"6x6\" => \"0\", \"23x14\" => \"195\", \"16x17\" => \"253\", ...}"
      ]
     },
     "execution_count": 2,
     "metadata": {},
     "output_type": "execute_result"
    }
   ],
   "source": [
    "dataset = \"../emel/notebooks/dataset/mnist.csv\"\n",
    "    |> File.stream!()\n",
    "    |> CSV.decode!(headers: true)\n",
    "    |> Enum.to_list()\n",
    "hd(dataset)"
   ]
  },
  {
   "cell_type": "code",
   "execution_count": 3,
   "metadata": {},
   "outputs": [
    {
     "data": {
      "text/plain": [
       "%{\"4x2\" => 0.0, \"14x27\" => 0.0, \"7x3\" => 0.0, \"8x25\" => 0.0, \"24x28\" => 0.0, \"18x2\" => 0.0, \"12x4\" => 0.0, \"1x9\" => 0.0, \"21x2\" => 0.0, \"8x12\" => 253.0, \"15x4\" => 0.0, \"19x19\" => 253.0, \"3x17\" => 0.0, \"15x21\" => 0.0, \"19x18\" => 253.0, \"15x27\" => 0.0, \"14x11\" => 0.0, \"26x24\" => 0.0, \"16x23\" => 0.0, \"12x11\" => 0.0, \"4x10\" => 0.0, \"27x8\" => 0.0, \"23x3\" => 0.0, \"2x18\" => 0.0, \"1x28\" => 0.0, \"22x16\" => 198.0, \"8x15\" => 253.0, \"16x28\" => 0.0, \"12x15\" => 2.0, \"20x18\" => 253.0, \"10x17\" => 43.0, \"19x13\" => 0.0, \"3x8\" => 0.0, \"21x13\" => 221.0, \"5x7\" => 0.0, \"26x9\" => 0.0, \"17x12\" => 0.0, \"28x5\" => 0.0, \"24x6\" => 172.0, \"2x6\" => 0.0, \"5x20\" => 0.0, \"4x25\" => 0.0, \"28x10\" => 0.0, \"17x20\" => 187.0, \"2x7\" => 0.0, \"18x23\" => 0.0, \"21x5\" => 0.0, \"6x6\" => 0.0, \"23x14\" => 195.0, \"16x17\" => 253.0, ...}"
      ]
     },
     "execution_count": 3,
     "metadata": {},
     "output_type": "execute_result"
    }
   ],
   "source": [
    "parsed_dataset = Enum.map(\n",
    "  dataset,\n",
    "  fn row ->\n",
    "    for {k, v} <- row do\n",
    "      if k != \"label\" do {k, Mdl.parse(v)}\n",
    "      else {k, v} end\n",
    "    end\n",
    "    |> Map.new()\n",
    "  end\n",
    ")\n",
    "hd(parsed_dataset)"
   ]
  },
  {
   "cell_type": "code",
   "execution_count": null,
   "metadata": {},
   "outputs": [],
   "source": [
    "{training_set, test_set} = Mdl.training_and_test_sets(parsed_dataset, 0.75)"
   ]
  },
  {
   "cell_type": "code",
   "execution_count": null,
   "metadata": {},
   "outputs": [],
   "source": [
    "discrete_attributes = dataset\n",
    "|> hd()\n",
    "|> Map.keys()\n",
    "|> Enum.reject(fn x -> x == \"label\" end)\n",
    "class = \"label\"\n",
    "k = 5\n",
    "f = KNN.classifier(training_set, discrete_attributes, class, k)"
   ]
  },
  {
   "cell_type": "code",
   "execution_count": 6,
   "metadata": {},
   "outputs": [
    {
     "data": {
      "text/plain": [
       "[\"5\", \"0\", \"9\", \"5\", \"1\", \"6\", \"2\", \"4\", \"6\", \"9\"]"
      ]
     },
     "execution_count": 6,
     "metadata": {},
     "output_type": "execute_result"
    }
   ],
   "source": [
    "observations = Enum.map(test_set, fn %{\"label\" => label} -> label end)\n",
    "Enum.take(observations, 10)"
   ]
  },
  {
   "cell_type": "code",
   "execution_count": 7,
   "metadata": {},
   "outputs": [
    {
     "data": {
      "text/plain": [
       "[\"5\", \"0\", \"9\", \"5\", \"1\", \"1\", \"1\", \"4\", \"1\", \"9\"]"
      ]
     },
     "execution_count": 7,
     "metadata": {},
     "output_type": "execute_result"
    }
   ],
   "source": [
    "predictions = Enum.map(test_set, fn row -> f.(row) end)\n",
    "Enum.take(predictions, 10)"
   ]
  },
  {
   "cell_type": "code",
   "execution_count": 8,
   "metadata": {},
   "outputs": [
    {
     "data": {
      "text/plain": [
       "0.9"
      ]
     },
     "execution_count": 8,
     "metadata": {},
     "output_type": "execute_result"
    }
   ],
   "source": [
    "Emel.Math.Statistics.similarity(predictions, observations)"
   ]
  }
 ],
 "metadata": {
  "kernelspec": {
   "display_name": "Elixir",
   "language": "Elixir",
   "name": "ielixir"
  },
  "language_info": {
   "codemirror_mode": "elixir",
   "file_extension": "ex",
   "mimetype": "text/x-elixir",
   "name": "elixir",
   "nbconvert_exporter": "",
   "pygments_lexer": "elixir",
   "version": "1.7.4"
  }
 },
 "nbformat": 4,
 "nbformat_minor": 2
}
