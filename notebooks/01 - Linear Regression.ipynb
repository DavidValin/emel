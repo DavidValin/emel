{
 "cells": [
  {
   "cell_type": "code",
   "execution_count": 1,
   "metadata": {
    "collapsed": true
   },
   "outputs": [
    {
     "name": "stdout",
     "output_type": "stream",
     "text": [
      "All dependencies up to date\n",
      "All dependencies up to date\n",
      "Resolving Hex dependencies...\n",
      "Dependency resolution completed:\n",
      "Unchanged:\n",
      "\u001b[32m  csv 2.0.0\u001b[0m\n",
      "\u001b[32m  emel 0.3.0\u001b[0m\n",
      "\u001b[32m  parallel_stream 1.0.6\u001b[0m\n",
      "All dependencies up to date\n"
     ]
    },
    {
     "name": "stderr",
     "output_type": "stream",
     "text": [
      "\u001b[33mwarning: \u001b[0mfound quoted keyword \"coveralls\" but the quotes are not required. Note that keywords are always atoms, even when quoted, and quotes should only be used to introduce keywords with foreign characters in them\n",
      "  mix.exs:22\n",
      "\n",
      "\u001b[33mwarning: \u001b[0mredefining module IElixir.Mixfile (current version defined in memory)\n",
      "  mix.exs:1\n",
      "\n",
      "\u001b[33mwarning: \u001b[0mfound quoted keyword \"coveralls\" but the quotes are not required. Note that keywords are always atoms, even when quoted, and quotes should only be used to introduce keywords with foreign characters in them\n",
      "  mix.exs:22\n",
      "\n",
      "\u001b[33mwarning: \u001b[0mredefining module IElixir.Mixfile (current version defined in memory)\n",
      "  mix.exs:1\n",
      "\n",
      "\u001b[33mwarning: \u001b[0mfound quoted keyword \"coveralls\" but the quotes are not required. Note that keywords are always atoms, even when quoted, and quotes should only be used to introduce keywords with foreign characters in them\n",
      "  /home/dimos/projects/elixir/IElixir/envs/env/deps/parallel_stream/mix.exs:17\n",
      "\n",
      "\u001b[33mwarning: \u001b[0mfound quoted keyword \"coveralls\" but the quotes are not required. Note that keywords are always atoms, even when quoted, and quotes should only be used to introduce keywords with foreign characters in them\n",
      "  /home/dimos/projects/elixir/IElixir/envs/env/deps/csv/mix.exs:18\n",
      "\n"
     ]
    },
    {
     "data": {
      "text/plain": [
       "Emel.Ml.LinearRegression"
      ]
     },
     "execution_count": 1,
     "metadata": {},
     "output_type": "execute_result"
    }
   ],
   "source": [
    "Boyle.mk(\"env\")\n",
    "Boyle.activate(\"env\")\n",
    "Boyle.install({:emel, \"~> 0.3.0\"})\n",
    "alias Emel.Ml.LinearRegression, as: LR"
   ]
  },
  {
   "cell_type": "code",
   "execution_count": 2,
   "metadata": {
    "collapsed": true
   },
   "outputs": [
    {
     "data": {
      "text/plain": [
       "#Function<6.128620087/1 in :erl_eval.expr/5>"
      ]
     },
     "execution_count": 2,
     "metadata": {},
     "output_type": "execute_result"
    }
   ],
   "source": [
    "line = fn x -> 2 * x - 3 + :rand.uniform() end"
   ]
  },
  {
   "cell_type": "code",
   "execution_count": 3,
   "metadata": {},
   "outputs": [
    {
     "data": {
      "text/plain": [
       "[%{x: 1, y: -0.2656003583441289}, %{x: 2, y: 1.071510544986007}]"
      ]
     },
     "execution_count": 3,
     "metadata": {},
     "output_type": "execute_result"
    }
   ],
   "source": [
    "dataset = Enum.map(1..50, fn x -> %{x: x, y: line.(x)} end)\n",
    "Enum.take(dataset, 2)"
   ]
  },
  {
   "cell_type": "code",
   "execution_count": 4,
   "metadata": {
    "collapsed": true
   },
   "outputs": [
    {
     "data": {
      "text/plain": [
       "{[%{x: 24, y: 45.99742103691741}, %{x: 48, y: 93.65240064604939}, %{x: 22, y: 41.19995168335449}, %{x: 19, y: 35.34774607233467}, %{x: 5, y: 7.0687042786273535}, %{x: 1, y: -0.2656003583441289}, %{x: 37, y: 71.43408693287094}, %{x: 20, y: 37.546820966957256}, %{x: 50, y: 97.66714743537085}, %{x: 42, y: 81.34255039896313}, %{x: 16, y: 29.377403367458538}, %{x: 8, y: 13.642065217789861}, %{x: 46, y: 89.09694029152686}, %{x: 10, y: 17.491116999233306}, %{x: 40, y: 77.42065216361419}, %{x: 34, y: 65.7627900947912}, %{x: 14, y: 25.146405823908307}, %{x: 43, y: 83.87452214901963}, %{x: 47, y: 91.67541158061861}, %{x: 44, y: 85.64570776182275}, %{x: 25, y: 47.932215698802274}, %{x: 11, y: 19.51362167257432}, %{x: 6, y: 9.499264976544035}, %{x: 31, y: 59.502512587202}, %{x: 41, y: 79.41862818401948}, %{x: 23, y: 43.12393603324441}, %{x: 13, y: 23.174707249454254}, %{x: 38, y: 73.0248870051472}, %{x: 45, y: 87.68479601583937}, %{x: 27, y: 51.84926629738369}], [%{x: 12, y: 21.49764948776884}, %{x: 2, y: 1.071510544986007}, %{x: 4, y: 5.942360017437941}, %{x: 9, y: 15.500252573815425}, %{x: 30, y: 57.45771186505441}, %{x: 7, y: 11.359357849049132}, %{x: 35, y: 67.86563433438046}, %{x: 15, y: 27.03903324067412}, %{x: 33, y: 63.637304480439674}, %{x: 26, y: 49.79901615379661}, %{x: 29, y: 55.530568268120774}, %{x: 36, y: 69.00872899386748}, %{x: 3, y: 3.7275822458805505}, %{x: 17, y: 31.24819848331816}, %{x: 49, y: 95.05086594238709}, %{x: 18, y: 33.15139966964967}, %{x: 21, y: 39.13177048464857}, %{x: 28, y: 53.8582220165027}, %{x: 32, y: 61.4251249923816}, %{x: 39, y: 75.30996210066151}]}"
      ]
     },
     "execution_count": 4,
     "metadata": {},
     "output_type": "execute_result"
    }
   ],
   "source": [
    "{training_set, test_set} = Emel.Help.Model.training_and_test_sets(dataset, 0.6)"
   ]
  },
  {
   "cell_type": "code",
   "execution_count": 5,
   "metadata": {
    "collapsed": true
   },
   "outputs": [
    {
     "data": {
      "text/plain": [
       "#Function<5.133730991/1 in Emel.Ml.LinearRegression.predictor/3>"
      ]
     },
     "execution_count": 5,
     "metadata": {},
     "output_type": "execute_result"
    }
   ],
   "source": [
    "independent_variables = [:x]\n",
    "dependent_variable = :y\n",
    "f = LR.predictor(training_set, independent_variables, dependent_variable)"
   ]
  },
  {
   "cell_type": "code",
   "execution_count": 6,
   "metadata": {},
   "outputs": [
    {
     "data": {
      "text/plain": [
       "[21.49764948776884, 1.071510544986007, 5.942360017437941, 15.500252573815425]"
      ]
     },
     "execution_count": 6,
     "metadata": {},
     "output_type": "execute_result"
    }
   ],
   "source": [
    "observations = Enum.map(test_set, fn %{y: y} -> y end)\n",
    "Enum.take(observations, 4)"
   ]
  },
  {
   "cell_type": "code",
   "execution_count": 7,
   "metadata": {},
   "outputs": [
    {
     "data": {
      "text/plain": [
       "[21.45021532092789, 1.4216702010287685, 5.427379225008592, 15.441651784958154]"
      ]
     },
     "execution_count": 7,
     "metadata": {},
     "output_type": "execute_result"
    }
   ],
   "source": [
    "predictions = Enum.map(test_set, fn row -> f.(row) end)\n",
    "Enum.take(predictions, 4)"
   ]
  },
  {
   "cell_type": "code",
   "execution_count": 8,
   "metadata": {},
   "outputs": [
    {
     "data": {
      "text/plain": [
       "0.2592595154342723"
      ]
     },
     "execution_count": 8,
     "metadata": {},
     "output_type": "execute_result"
    }
   ],
   "source": [
    "Emel.Math.Statistics.mean_absolute_error(predictions, observations)"
   ]
  }
 ],
 "metadata": {
  "kernelspec": {
   "display_name": "Elixir",
   "language": "Elixir",
   "name": "ielixir"
  },
  "language_info": {
   "codemirror_mode": "elixir",
   "file_extension": "ex",
   "mimetype": "text/x-elixir",
   "name": "elixir",
   "nbconvert_exporter": "",
   "pygments_lexer": "elixir",
   "version": "1.7.4"
  }
 },
 "nbformat": 4,
 "nbformat_minor": 2
}
