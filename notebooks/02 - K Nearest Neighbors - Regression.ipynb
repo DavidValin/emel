{
 "cells": [
  {
   "cell_type": "code",
   "execution_count": 1,
   "metadata": {
    "collapsed": true
   },
   "outputs": [
    {
     "name": "stdout",
     "output_type": "stream",
     "text": [
      "All dependencies up to date\n",
      "All dependencies up to date\n",
      "Resolving Hex dependencies...\n",
      "Dependency resolution completed:\n",
      "Unchanged:\n",
      "\u001b[32m  csv 2.0.0\u001b[0m\n",
      "\u001b[32m  emel 0.3.0\u001b[0m\n",
      "\u001b[32m  parallel_stream 1.0.6\u001b[0m\n",
      "All dependencies up to date\n"
     ]
    },
    {
     "name": "stderr",
     "output_type": "stream",
     "text": [
      "\u001b[33mwarning: \u001b[0mfound quoted keyword \"coveralls\" but the quotes are not required. Note that keywords are always atoms, even when quoted, and quotes should only be used to introduce keywords with foreign characters in them\n",
      "  mix.exs:22\n",
      "\n",
      "\u001b[33mwarning: \u001b[0mredefining module IElixir.Mixfile (current version defined in memory)\n",
      "  mix.exs:1\n",
      "\n",
      "\u001b[33mwarning: \u001b[0mfound quoted keyword \"coveralls\" but the quotes are not required. Note that keywords are always atoms, even when quoted, and quotes should only be used to introduce keywords with foreign characters in them\n",
      "  mix.exs:22\n",
      "\n",
      "\u001b[33mwarning: \u001b[0mredefining module IElixir.Mixfile (current version defined in memory)\n",
      "  mix.exs:1\n",
      "\n",
      "\u001b[33mwarning: \u001b[0mfound quoted keyword \"coveralls\" but the quotes are not required. Note that keywords are always atoms, even when quoted, and quotes should only be used to introduce keywords with foreign characters in them\n",
      "  /home/dimos/projects/elixir/IElixir/envs/env/deps/parallel_stream/mix.exs:17\n",
      "\n",
      "\u001b[33mwarning: \u001b[0mfound quoted keyword \"coveralls\" but the quotes are not required. Note that keywords are always atoms, even when quoted, and quotes should only be used to introduce keywords with foreign characters in them\n",
      "  /home/dimos/projects/elixir/IElixir/envs/env/deps/csv/mix.exs:18\n",
      "\n"
     ]
    },
    {
     "data": {
      "text/plain": [
       "Emel.Ml.KNearestNeighbors"
      ]
     },
     "execution_count": 1,
     "metadata": {},
     "output_type": "execute_result"
    }
   ],
   "source": [
    "Boyle.mk(\"env\")\n",
    "Boyle.activate(\"env\")\n",
    "Boyle.install({:emel, \"~> 0.3.0\"})\n",
    "alias Emel.Ml.KNearestNeighbors, as: KNN"
   ]
  },
  {
   "cell_type": "code",
   "execution_count": 2,
   "metadata": {
    "collapsed": true
   },
   "outputs": [
    {
     "data": {
      "text/plain": [
       "#Function<12.128620087/2 in :erl_eval.expr/5>"
      ]
     },
     "execution_count": 2,
     "metadata": {},
     "output_type": "execute_result"
    }
   ],
   "source": [
    "paraboloid = fn (x1, x2) -> (x1 * x1 / 9) + (x2 * x2 / 4) + :rand.uniform() end"
   ]
  },
  {
   "cell_type": "code",
   "execution_count": 3,
   "metadata": {},
   "outputs": [
    {
     "data": {
      "text/plain": [
       "[%{x1: -10, x2: -10, y: 36.60238712601661}, %{x1: -10, x2: -9, y: 31.548054837924408}]"
      ]
     },
     "execution_count": 3,
     "metadata": {},
     "output_type": "execute_result"
    }
   ],
   "source": [
    "dataset = for x1 <- -10..10, x2 <- -10..10, do: %{x1: x1, x2: x2, y: paraboloid.(x1, x2)}\n",
    "Enum.take(dataset, 2)"
   ]
  },
  {
   "cell_type": "code",
   "execution_count": 4,
   "metadata": {
    "collapsed": true
   },
   "outputs": [
    {
     "data": {
      "text/plain": [
       "{[%{x1: 3, x2: 4, y: 5.845142041209937}, %{x1: 0, x2: 4, y: 4.515547496499206}, %{x1: 2, x2: -7, y: 13.596129820857891}, %{x1: -1, x2: 9, y: 21.080870658542324}, %{x1: -7, x2: 0, y: 6.160951092870071}, %{x1: -4, x2: -10, y: 27.60210941353837}, %{x1: -6, x2: -8, y: 20.72815197698885}, %{x1: 3, x2: 0, y: 1.4916065213397687}, %{x1: -3, x2: -9, y: 21.63020664471186}, %{x1: 0, x2: -9, y: 20.989880722124248}, %{x1: -1, x2: -6, y: 9.677153930895091}, %{x1: 5, x2: -3, y: 5.987284628350963}, %{x1: -9, x2: 5, y: 15.779715892925118}, %{x1: 5, x2: 1, y: 3.714903421936973}, %{x1: -9, x2: 0, y: 9.287327670971552}, %{x1: 2, x2: -8, y: 17.393737799861057}, %{x1: -1, x2: 7, y: 12.679967243610132}, %{x1: 9, x2: -9, y: 30.17746820370334}, %{x1: -5, x2: 7, y: 15.128568411854344}, %{x1: 4, x2: -8, y: 18.149393800064118}, %{x1: -2, x2: -7, y: 13.534631260811743}, %{x1: 4, x2: 10, y: 27.25082282765706}, %{x1: 1, x2: 5, y: 6.3650871990939955}, %{x1: -6, x2: 2, y: 5.858738471411034}, %{x1: 9, x2: -3, y: 12.15338256350541}, %{x1: 4, x2: -3, y: 4.752995580336117}, %{x1: 6, x2: -7, y: 16.54497151680701}, %{x1: 1, x2: 6, y: 9.70713897192899}, %{x1: 2, x2: 1, y: 1.1765884445374493}, %{x1: 7, x2: 9, y: 26.18697836408052}, %{x1: -9, x2: -4, y: 13.076253116344045}, %{x1: -9, x2: -5, y: 16.019760250591904}, %{x1: -10, x2: 4, y: 15.601815121634177}, %{x1: 10, x2: 8, y: 27.245521582716748}, %{x1: -8, x2: -10, y: 32.63511836240624}, %{x1: -10, x2: 5, y: 18.154496472891168}, %{x1: -5, x2: -2, y: 4.557783638917128}, %{x1: -10, x2: -1, y: 11.672324082439994}, %{x1: -3, x2: 9, y: 21.337045573687487}, %{x1: -1, x2: -8, y: 16.44170914459455}, %{x1: -8, x2: 5, y: 14.349956009408634}, %{x1: 6, x2: 8, y: 20.567091026549576}, %{x1: 2, x2: 6, y: 10.342070228281893}, %{x1: 5, x2: -6, y: 12.308658366604192}, %{x1: -6, x2: 7, y: 16.85540976574207}, %{x1: -3, x2: -3, y: 3.8639476293628108}, %{x1: -7, x2: -5, ...}, %{x1: -4, ...}, %{...}, ...], [%{x1: -1, x2: -3, y: 2.7642946508887185}, %{x1: 2, x2: -1, y: 1.6264833571402675}, %{x1: 9, x2: 3, y: 11.753213854931646}, %{x1: 6, x2: -3, y: 7.238512087456175}, %{x1: -5, x2: -8, y: 19.180844575233124}, %{x1: -3, x2: 5, y: 7.360775452021368}, %{x1: 1, x2: 1, y: 0.9235348552249534}, %{x1: -6, x2: -1, y: 4.388677874982755}, %{x1: 7, x2: -4, y: 10.41406998501205}, %{x1: 10, x2: 6, y: 21.05835499334858}, %{x1: -4, x2: 9, y: 22.51058598946261}, %{x1: 7, x2: 8, y: 22.112663969286654}, %{x1: -10, x2: -4, y: 15.673812818925775}, %{x1: 8, x2: 10, y: 32.38011333645424}, %{x1: -6, x2: -10, y: 29.951412039275127}, %{x1: 8, x2: 0, y: 7.710085295008673}, %{x1: 1, x2: -1, y: 0.8175080836898636}, %{x1: -7, x2: -2, y: 7.415378577653187}, %{x1: -7, x2: 9, y: 26.444819009716028}, %{x1: 3, x2: 10, y: 26.773289487346673}, %{x1: -9, x2: -8, y: 25.343279561917523}, %{x1: 8, x2: -7, y: 20.14794161170857}, %{x1: 8, x2: 9, y: 27.82730721929819}, %{x1: 10, x2: -7, y: 23.40432502940703}, %{x1: -5, x2: 4, y: 7.110768131777395}, %{x1: 9, x2: -8, y: 25.35817001848761}, %{x1: 6, x2: -8, y: 20.242303621545574}, %{x1: 1, x2: 7, y: 13.261540176018181}, %{x1: 7, x2: 3, y: 8.047847500305112}, %{x1: 10, x2: 4, y: 15.620666244032947}, %{x1: 8, x2: 7, y: 19.433547353115767}, %{x1: 8, x2: -10, y: 32.445856007272276}, %{x1: 0, x2: -1, y: 0.7361334225264441}, %{x1: -1, x2: -2, y: 1.16310166474788}, %{x1: 6, x2: -1, y: 4.684196994031907}, %{x1: 5, x2: -8, y: 19.392691057933924}, %{x1: -8, x2: -8, y: 24.069611460397894}, %{x1: -2, x2: 2, y: 1.615790954455123}, %{x1: 5, x2: -4, y: 7.717337611154163}, %{x1: -4, x2: -2, y: 3.622155681489041}, %{x1: -7, x2: -9, y: 25.79946640953869}, %{x1: 3, x2: 2, y: 2.4771227077389986}, %{x1: -8, x2: -2, y: 8.86809774758869}, %{x1: -2, x2: 9, y: 20.727869711780933}, %{x1: -10, x2: 2, y: 13.082998840091417}, %{x1: 3, x2: 8, ...}, %{x1: 1, ...}, %{...}, ...]}"
      ]
     },
     "execution_count": 4,
     "metadata": {},
     "output_type": "execute_result"
    }
   ],
   "source": [
    "{training_set, test_set} = Emel.Help.Model.training_and_test_sets(dataset, 0.7)"
   ]
  },
  {
   "cell_type": "code",
   "execution_count": 5,
   "metadata": {
    "collapsed": true
   },
   "outputs": [
    {
     "data": {
      "text/plain": [
       "#Function<2.125921798/1 in Emel.Ml.KNearestNeighbors.predictor/4>"
      ]
     },
     "execution_count": 5,
     "metadata": {},
     "output_type": "execute_result"
    }
   ],
   "source": [
    "independent_variables = [:x1, :x2]\n",
    "dependent_variable = :y\n",
    "k = 3\n",
    "f = KNN.predictor(training_set, independent_variables, dependent_variable, k)"
   ]
  },
  {
   "cell_type": "code",
   "execution_count": 6,
   "metadata": {},
   "outputs": [
    {
     "data": {
      "text/plain": [
       "[2.7642946508887185, 1.6264833571402675, 11.753213854931646, 7.238512087456175]"
      ]
     },
     "execution_count": 6,
     "metadata": {},
     "output_type": "execute_result"
    }
   ],
   "source": [
    "observations = Enum.map(test_set, fn %{y: y} -> y end)\n",
    "Enum.take(observations, 4)"
   ]
  },
  {
   "cell_type": "code",
   "execution_count": 7,
   "metadata": {},
   "outputs": [
    {
     "data": {
      "text/plain": [
       "[4.059301581278143, 1.8137765485007138, 13.394297828472153, 6.4085652788149945]"
      ]
     },
     "execution_count": 7,
     "metadata": {},
     "output_type": "execute_result"
    }
   ],
   "source": [
    "predictions = Enum.map(test_set, fn row -> f.(row) end)\n",
    "Enum.take(predictions, 4)"
   ]
  },
  {
   "cell_type": "code",
   "execution_count": 8,
   "metadata": {},
   "outputs": [
    {
     "data": {
      "text/plain": [
       "0.9165646589517438"
      ]
     },
     "execution_count": 8,
     "metadata": {},
     "output_type": "execute_result"
    }
   ],
   "source": [
    "Emel.Math.Statistics.mean_absolute_error(predictions, observations)"
   ]
  }
 ],
 "metadata": {
  "kernelspec": {
   "display_name": "Elixir",
   "language": "Elixir",
   "name": "ielixir"
  },
  "language_info": {
   "codemirror_mode": "elixir",
   "file_extension": "ex",
   "mimetype": "text/x-elixir",
   "name": "elixir",
   "nbconvert_exporter": "",
   "pygments_lexer": "elixir",
   "version": "1.7.4"
  }
 },
 "nbformat": 4,
 "nbformat_minor": 2
}
